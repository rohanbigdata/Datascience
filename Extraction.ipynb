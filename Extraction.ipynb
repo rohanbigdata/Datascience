{
  "nbformat": 4,
  "nbformat_minor": 0,
  "metadata": {
    "colab": {
      "provenance": [],
      "authorship_tag": "ABX9TyNJhgiLseiHH0mkWE83eY84",
      "include_colab_link": true
    },
    "kernelspec": {
      "name": "python3",
      "display_name": "Python 3"
    },
    "language_info": {
      "name": "python"
    }
  },
  "cells": [
    {
      "cell_type": "markdown",
      "metadata": {
        "id": "view-in-github",
        "colab_type": "text"
      },
      "source": [
        "<a href=\"https://colab.research.google.com/github/rohanbigdata/Datascience/blob/main/Extraction.ipynb\" target=\"_parent\"><img src=\"https://colab.research.google.com/assets/colab-badge.svg\" alt=\"Open In Colab\"/></a>"
      ]
    },
    {
      "cell_type": "code",
      "execution_count": null,
      "metadata": {
        "colab": {
          "base_uri": "https://localhost:8080/"
        },
        "id": "kopcdpEUuemw",
        "outputId": "5d7ea0c7-2e8f-4adb-f3ea-2ec0ef44bba5"
      },
      "outputs": [
        {
          "output_type": "stream",
          "name": "stdout",
          "text": [
            "Requirement already satisfied: requests in /usr/local/lib/python3.10/dist-packages (2.31.0)\n",
            "Requirement already satisfied: beautifulsoup4 in /usr/local/lib/python3.10/dist-packages (4.12.3)\n",
            "Requirement already satisfied: charset-normalizer<4,>=2 in /usr/local/lib/python3.10/dist-packages (from requests) (3.3.2)\n",
            "Requirement already satisfied: idna<4,>=2.5 in /usr/local/lib/python3.10/dist-packages (from requests) (3.7)\n",
            "Requirement already satisfied: urllib3<3,>=1.21.1 in /usr/local/lib/python3.10/dist-packages (from requests) (2.0.7)\n",
            "Requirement already satisfied: certifi>=2017.4.17 in /usr/local/lib/python3.10/dist-packages (from requests) (2024.2.2)\n",
            "Requirement already satisfied: soupsieve>1.2 in /usr/local/lib/python3.10/dist-packages (from beautifulsoup4) (2.5)\n"
          ]
        }
      ],
      "source": [
        "pip install requests beautifulsoup4\n"
      ]
    },
    {
      "cell_type": "code",
      "source": [
        "pip install requests beautifulsoup4 pandas\n"
      ],
      "metadata": {
        "colab": {
          "base_uri": "https://localhost:8080/"
        },
        "id": "s1geTWDgvEZq",
        "outputId": "b22d3db0-df82-42e4-8afd-86838716c29e"
      },
      "execution_count": null,
      "outputs": [
        {
          "output_type": "stream",
          "name": "stdout",
          "text": [
            "Requirement already satisfied: requests in /usr/local/lib/python3.10/dist-packages (2.31.0)\n",
            "Requirement already satisfied: beautifulsoup4 in /usr/local/lib/python3.10/dist-packages (4.12.3)\n",
            "Requirement already satisfied: pandas in /usr/local/lib/python3.10/dist-packages (2.0.3)\n",
            "Requirement already satisfied: charset-normalizer<4,>=2 in /usr/local/lib/python3.10/dist-packages (from requests) (3.3.2)\n",
            "Requirement already satisfied: idna<4,>=2.5 in /usr/local/lib/python3.10/dist-packages (from requests) (3.7)\n",
            "Requirement already satisfied: urllib3<3,>=1.21.1 in /usr/local/lib/python3.10/dist-packages (from requests) (2.0.7)\n",
            "Requirement already satisfied: certifi>=2017.4.17 in /usr/local/lib/python3.10/dist-packages (from requests) (2024.2.2)\n",
            "Requirement already satisfied: soupsieve>1.2 in /usr/local/lib/python3.10/dist-packages (from beautifulsoup4) (2.5)\n",
            "Requirement already satisfied: python-dateutil>=2.8.2 in /usr/local/lib/python3.10/dist-packages (from pandas) (2.8.2)\n",
            "Requirement already satisfied: pytz>=2020.1 in /usr/local/lib/python3.10/dist-packages (from pandas) (2023.4)\n",
            "Requirement already satisfied: tzdata>=2022.1 in /usr/local/lib/python3.10/dist-packages (from pandas) (2024.1)\n",
            "Requirement already satisfied: numpy>=1.21.0 in /usr/local/lib/python3.10/dist-packages (from pandas) (1.25.2)\n",
            "Requirement already satisfied: six>=1.5 in /usr/local/lib/python3.10/dist-packages (from python-dateutil>=2.8.2->pandas) (1.16.0)\n"
          ]
        }
      ]
    },
    {
      "cell_type": "code",
      "source": [
        "import requests\n",
        "from bs4 import BeautifulSoup\n",
        "import pandas as pd\n",
        "\n",
        "# URLs of the 10-K reports\n",
        "urls = {\n",
        "    'Apple': 'https://www.sec.gov/ix?doc=/Archives/edgar/data/320193/000032019324000069/aapl-20240330.htm',\n",
        "    'Tesla': 'https://www.sec.gov/ix?doc=/Archives/edgar/data/1318605/000162828024017503/tsla-20240331.htm',\n",
        "    'Microsoft': 'https://www.sec.gov/ix?doc=/Archives/edgar/data/789019/000095017024048288/msft-20240331.htm'\n",
        "}\n",
        "\n",
        "financial_data = {}\n",
        "\n",
        "def extract_financial_data(url):\n",
        "    response = requests.get(url)\n",
        "    soup = BeautifulSoup(response.content, 'html.parser')\n",
        "\n",
        "    # Extract financial data\n",
        "    data = {}\n",
        "    tables = soup.find_all('table')\n",
        "\n",
        "    for i, table in enumerate(tables):\n",
        "        rows = table.find_all('tr')\n",
        "\n",
        "        for row in rows:\n",
        "            cols = row.find_all(['th', 'td'])\n",
        "            cols = [ele.text.strip() for ele in cols]\n",
        "\n",
        "            # Debugging: print the columns\n",
        "            if cols:\n",
        "                print(f'Cols: {cols}')\n",
        "\n",
        "            if len(cols) >= 2:\n",
        "                if 'Total Revenue' in cols[0] or 'Revenues' in cols[0]:\n",
        "                    data['Total Revenue'] = cols[1]\n",
        "                elif 'Net Income' in cols[0] or 'Net earnings' in cols[0]:\n",
        "                    data['Net Income'] = cols[1]\n",
        "                elif 'Total Assets' in cols[0] or 'Assets' in cols[0]:\n",
        "                    data['Total Assets'] = cols[1]\n",
        "                elif 'Total Liabilities' in cols[0] or 'Liabilities' in cols[0]:\n",
        "                    data['Total Liabilities'] = cols[1]\n",
        "                elif 'Cash Flow from Operating Activities' in cols[0] or 'Net cash provided by operating activities' in cols[0]:\n",
        "                    data['Cash Flow from Operating Activities'] = cols[1]\n",
        "\n",
        "    return data\n",
        "\n",
        "for company, url in urls.items():\n",
        "    print(f'Extracting data for {company}')\n",
        "    financial_data[company] = extract_financial_data(url)\n",
        "\n",
        "# Convert to DataFrame\n",
        "df = pd.DataFrame(financial_data).T\n",
        "print(df)\n"
      ],
      "metadata": {
        "colab": {
          "base_uri": "https://localhost:8080/"
        },
        "id": "LQSb29F_vHnp",
        "outputId": "dd91956a-5a72-4dc7-b999-8af2178c45bd"
      },
      "execution_count": null,
      "outputs": [
        {
          "output_type": "stream",
          "name": "stdout",
          "text": [
            "Extracting data for Apple\n",
            "Extracting data for Tesla\n",
            "Extracting data for Microsoft\n",
            "Empty DataFrame\n",
            "Columns: []\n",
            "Index: [Apple, Tesla, Microsoft]\n"
          ]
        }
      ]
    }
  ]
}