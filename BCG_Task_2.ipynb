{
  "nbformat": 4,
  "nbformat_minor": 0,
  "metadata": {
    "colab": {
      "provenance": []
    },
    "kernelspec": {
      "name": "python3",
      "display_name": "Python 3"
    },
    "language_info": {
      "name": "python"
    }
  },
  "cells": [
    {
      "cell_type": "code",
      "source": [
        "pip install pandas flask\n"
      ],
      "metadata": {
        "colab": {
          "base_uri": "https://localhost:8080/",
          "height": 0
        },
        "id": "tN7X_6XBerw3",
        "outputId": "6d01d996-afc2-4c83-c068-c1c45f14d952"
      },
      "execution_count": 1,
      "outputs": [
        {
          "output_type": "stream",
          "name": "stdout",
          "text": [
            "Requirement already satisfied: pandas in /usr/local/lib/python3.10/dist-packages (2.0.3)\n",
            "Requirement already satisfied: flask in /usr/local/lib/python3.10/dist-packages (2.2.5)\n",
            "Requirement already satisfied: python-dateutil>=2.8.2 in /usr/local/lib/python3.10/dist-packages (from pandas) (2.8.2)\n",
            "Requirement already satisfied: pytz>=2020.1 in /usr/local/lib/python3.10/dist-packages (from pandas) (2023.4)\n",
            "Requirement already satisfied: tzdata>=2022.1 in /usr/local/lib/python3.10/dist-packages (from pandas) (2024.1)\n",
            "Requirement already satisfied: numpy>=1.21.0 in /usr/local/lib/python3.10/dist-packages (from pandas) (1.25.2)\n",
            "Requirement already satisfied: Werkzeug>=2.2.2 in /usr/local/lib/python3.10/dist-packages (from flask) (3.0.3)\n",
            "Requirement already satisfied: Jinja2>=3.0 in /usr/local/lib/python3.10/dist-packages (from flask) (3.1.4)\n",
            "Requirement already satisfied: itsdangerous>=2.0 in /usr/local/lib/python3.10/dist-packages (from flask) (2.2.0)\n",
            "Requirement already satisfied: click>=8.0 in /usr/local/lib/python3.10/dist-packages (from flask) (8.1.7)\n",
            "Requirement already satisfied: MarkupSafe>=2.0 in /usr/local/lib/python3.10/dist-packages (from Jinja2>=3.0->flask) (2.1.5)\n",
            "Requirement already satisfied: six>=1.5 in /usr/local/lib/python3.10/dist-packages (from python-dateutil>=2.8.2->pandas) (1.16.0)\n"
          ]
        }
      ]
    },
    {
      "cell_type": "code",
      "execution_count": 2,
      "metadata": {
        "colab": {
          "base_uri": "https://localhost:8080/",
          "height": 0
        },
        "id": "maKVcdkCelUS",
        "outputId": "3728ea0f-a1b1-40ed-be80-54d34dbbd6bc"
      },
      "outputs": [
        {
          "output_type": "stream",
          "name": "stdout",
          "text": [
            " * Serving Flask app '__main__'\n",
            " * Debug mode: on\n"
          ]
        },
        {
          "output_type": "stream",
          "name": "stderr",
          "text": [
            "INFO:werkzeug:\u001b[31m\u001b[1mWARNING: This is a development server. Do not use it in a production deployment. Use a production WSGI server instead.\u001b[0m\n",
            " * Running on http://127.0.0.1:5000\n",
            "INFO:werkzeug:\u001b[33mPress CTRL+C to quit\u001b[0m\n",
            "INFO:werkzeug: * Restarting with stat\n"
          ]
        }
      ],
      "source": [
        "import pandas as pd\n",
        "from flask import Flask, request, jsonify\n",
        "\n",
        "app = Flask(__name__)\n",
        "\n",
        "# Financial data\n",
        "financial_data = {\n",
        "    \"Apple\": {\n",
        "        \"2024\": {\"Total Revenue\": 300000, \"Net Income\": 50000, \"Total Assets\": 350000, \"Total Liabilities\": 150000, \"Cash Flow\": 60000},\n",
        "        \"2023\": {\"Total Revenue\": 280000, \"Net Income\": 48000, \"Total Assets\": 340000, \"Total Liabilities\": 140000, \"Cash Flow\": 58000},\n",
        "        \"2022\": {\"Total Revenue\": 260000, \"Net Income\": 45000, \"Total Assets\": 330000, \"Total Liabilities\": 135000, \"Cash Flow\": 55000}\n",
        "    },\n",
        "    \"Tesla\": {\n",
        "        \"2024\": {\"Total Revenue\": 120000, \"Net Income\": 15000, \"Total Assets\": 200000, \"Total Liabilities\": 90000, \"Cash Flow\": 25000},\n",
        "        \"2023\": {\"Total Revenue\": 100000, \"Net Income\": 10000, \"Total Assets\": 180000, \"Total Liabilities\": 85000, \"Cash Flow\": 22000},\n",
        "        \"2022\": {\"Total Revenue\": 85000, \"Net Income\": 8000, \"Total Assets\": 160000, \"Total Liabilities\": 80000, \"Cash Flow\": 20000}\n",
        "    },\n",
        "    \"Microsoft\": {\n",
        "        \"2024\": {\"Total Revenue\": 250000, \"Net Income\": 60000, \"Total Assets\": 400000, \"Total Liabilities\": 180000, \"Cash Flow\": 80000},\n",
        "        \"2023\": {\"Total Revenue\": 240000, \"Net Income\": 55000, \"Total Assets\": 380000, \"Total Liabilities\": 170000, \"Cash Flow\": 75000},\n",
        "        \"2022\": {\"Total Revenue\": 230000, \"Net Income\": 50000, \"Total Assets\": 360000, \"Total Liabilities\": 160000, \"Cash Flow\": 70000}\n",
        "    }\n",
        "}\n",
        "\n",
        "def get_financial_data(company, year, metric):\n",
        "    try:\n",
        "        return financial_data[company][year][metric]\n",
        "    except KeyError:\n",
        "        return \"Data not available\"\n",
        "\n",
        "@app.route('/query', methods=['POST'])\n",
        "def chatbot():\n",
        "    data = request.json\n",
        "    company = data.get('company')\n",
        "    year = data.get('year')\n",
        "    query = data.get('query').lower()\n",
        "\n",
        "    if \"total revenue\" in query:\n",
        "        metric = \"Total Revenue\"\n",
        "    elif \"net income\" in query:\n",
        "        metric = \"Net Income\"\n",
        "    elif \"total assets\" in query:\n",
        "        metric = \"Total Assets\"\n",
        "    elif \"total liabilities\" in query:\n",
        "        metric = \"Total Liabilities\"\n",
        "    elif \"cash flow\" in query:\n",
        "        metric = \"Cash Flow\"\n",
        "    else:\n",
        "        return jsonify({\"response\": \"Sorry, I can only provide information on predefined queries.\"})\n",
        "\n",
        "    response = get_financial_data(company, year, metric)\n",
        "    return jsonify({\"response\": response})\n",
        "\n",
        "if __name__ == '__main__':\n",
        "    app.run(debug=True)\n"
      ]
    },
    {
      "cell_type": "code",
      "source": [],
      "metadata": {
        "id": "hEPkZD3hfK2p"
      },
      "execution_count": null,
      "outputs": []
    },
    {
      "cell_type": "code",
      "source": [
        "from google.colab import drive\n",
        "drive.mount('/content/drive')"
      ],
      "metadata": {
        "colab": {
          "base_uri": "https://localhost:8080/",
          "height": 0
        },
        "id": "PAJW9MjFfjV3",
        "outputId": "62db5902-0061-4bf0-81ab-5135fda5eb0c"
      },
      "execution_count": 1,
      "outputs": [
        {
          "output_type": "stream",
          "name": "stdout",
          "text": [
            "Mounted at /content/drive\n"
          ]
        }
      ]
    },
    {
      "cell_type": "markdown",
      "source": [
        "This prototype financial chatbot responds to predefined queries related to the financial data of Apple, Tesla, and Microsoft. The chatbot uses a simple rule-based logic to match user queries to specific data points\n",
        "\n",
        "**Predefined Queries:**\n",
        "\n",
        "What is the total revenue?\n",
        "What is the net income?\n",
        "What are the total assets?\n",
        "What are the total liabilities?\n",
        "What is the cash flow from operating activities?\n",
        "\n",
        "**How It Works:**\n",
        "\n",
        "The user sends a POST request with the company, year, and query.\n",
        "The chatbot matches the query to one of the predefined metrics.\n",
        "The chatbot retrieves the corresponding financial data and responds with the value.\n",
        "\n",
        "**Limitations**:\n",
        "\n",
        "The chatbot only responds to predefined queries.\n",
        "The chatbot does not handle complex or nuanced queries.\n",
        "The financial data is static and does not update in real-time."
      ],
      "metadata": {
        "id": "cr_OLDmcgbB3"
      }
    },
    {
      "cell_type": "code",
      "source": [],
      "metadata": {
        "id": "I2pVFyQNhYJc"
      },
      "execution_count": null,
      "outputs": []
    }
  ]
}